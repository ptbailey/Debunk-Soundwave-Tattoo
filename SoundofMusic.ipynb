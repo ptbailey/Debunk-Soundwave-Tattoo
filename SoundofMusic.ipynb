{
 "cells": [
  {
   "cell_type": "markdown",
   "metadata": {},
   "source": [
    "install pypub and ffmpeg (5min to install) FFmpeg is the leading multimedia framework, able to decode, encode, transcode, mux, demux, stream, filter and play pretty much anything that humans and machines have created."
   ]
  },
  {
   "cell_type": "markdown",
   "metadata": {},
   "source": [
    "had to do ffmpeg -i input.m4a output.wav in terminal"
   ]
  },
  {
   "cell_type": "markdown",
   "metadata": {},
   "source": [
    "make a requirements text"
   ]
  },
  {
   "cell_type": "markdown",
   "metadata": {},
   "source": [
    "http://blog.acipo.com/wave-generation-in-python/, https://image-match.readthedocs.io/en/latest/signatures.html"
   ]
  },
  {
   "cell_type": "markdown",
   "metadata": {},
   "source": [
    "pip install scikits.audiolab"
   ]
  },
  {
   "cell_type": "markdown",
   "metadata": {},
   "source": [
    "## <font color = 'blue'> Steps:\n",
    "- get audio\n",
    "- visualize audio\n",
    "- get image signature from visual\n",
    "- store image signature (key) and its corresponding audio (value) in database\n",
    "\n",
    "- get tattoo\n",
    "\n",
    "- get image of that tattoo\n",
    "- query database to find key that best matches this image signature\n",
    "- play audio of that match"
   ]
  },
  {
   "cell_type": "markdown",
   "metadata": {},
   "source": [
    "<font color = 'blue'> Import all necessary libraries"
   ]
  },
  {
   "cell_type": "code",
   "execution_count": 197,
   "metadata": {},
   "outputs": [],
   "source": [
    "import matplotlib.pyplot as plt\n",
    "import numpy as np\n",
    "import wave # python: The wave module provides a convenient interface to the WAV sound format\n",
    "import sys # need? System-specific parameters and functions. \n",
    "# This module provides access to some variables used or maintained by the interpreter\n",
    "from pydub import AudioSegment # Manipulate audio with an simple and easy high level interface. https://github.com/jiaaro/pydub/\n",
    "import ffmpeg # A complete, cross-platform solution to record, convert and stream audio and video.\n",
    "import aifc\n",
    "import struct\n",
    "import math\n",
    "from scipy.fftpack import fft, ifft\n",
    "import io\n",
    "from image_match.goldberg import ImageSignature\n",
    "from pydub.playback import play"
   ]
  },
  {
   "cell_type": "markdown",
   "metadata": {},
   "source": [
    "<font color = 'blue'> In terminal, convert audio file to wav format if it's not already set. ffmpeg -i input.m4a output.wav.\n",
    "    \n",
    "<font color = 'blue'> Then load in audio files"
   ]
  },
  {
   "cell_type": "markdown",
   "metadata": {},
   "source": [
    "<font color = 'blue'>Preliminary fun with audio using Python"
   ]
  },
  {
   "cell_type": "code",
   "execution_count": 226,
   "metadata": {},
   "outputs": [],
   "source": [
    "# Load in the audio file (ensure format is wav extention)\n",
    "chinese = AudioSegment.from_wav('chinese.wav')\n",
    "dexter = AudioSegment.from_wav('dexter.wav')\n",
    "tv = AudioSegment.from_wav('tv.wav')"
   ]
  },
  {
   "cell_type": "code",
   "execution_count": 208,
   "metadata": {},
   "outputs": [
    {
     "data": {
      "text/plain": [
       "2.004"
      ]
     },
     "execution_count": 208,
     "metadata": {},
     "output_type": "execute_result"
    }
   ],
   "source": [
    "chinese.duration_seconds"
   ]
  },
  {
   "cell_type": "code",
   "execution_count": 157,
   "metadata": {},
   "outputs": [
    {
     "data": {
      "text/plain": [
       "pydub.audio_segment.AudioSegment"
      ]
     },
     "execution_count": 157,
     "metadata": {},
     "output_type": "execute_result"
    }
   ],
   "source": [
    "# Look at type of audio\n",
    "type(chinese)"
   ]
  },
  {
   "cell_type": "code",
   "execution_count": 200,
   "metadata": {},
   "outputs": [
    {
     "data": {
      "text/plain": [
       "-2"
      ]
     },
     "execution_count": 200,
     "metadata": {},
     "output_type": "execute_result"
    }
   ],
   "source": [
    "# Play audio\n",
    "-int(len(chinese)/1000) # in milliseconds"
   ]
  },
  {
   "cell_type": "markdown",
   "metadata": {},
   "source": [
    "<font color = 'blue'>Read an audio file using wave"
   ]
  },
  {
   "cell_type": "code",
   "execution_count": 198,
   "metadata": {},
   "outputs": [],
   "source": [
    "play(AudioSegment.from_wav('dexter.wav'))"
   ]
  },
  {
   "cell_type": "markdown",
   "metadata": {},
   "source": [
    "<font color = 'blue'> Get parameters for later"
   ]
  },
  {
   "cell_type": "code",
   "execution_count": 280,
   "metadata": {},
   "outputs": [
    {
     "data": {
      "text/plain": [
       "_wave_params(nchannels=1, sampwidth=2, framerate=48000, nframes=422848, comptype='NONE', compname='not compressed')"
      ]
     },
     "execution_count": 280,
     "metadata": {},
     "output_type": "execute_result"
    }
   ],
   "source": [
    "audio.getparams()"
   ]
  },
  {
   "cell_type": "code",
   "execution_count": 167,
   "metadata": {},
   "outputs": [],
   "source": [
    "parameters = audio.getparams() # get the parameters of audio\n",
    "\n",
    "nchannels = parameters[0]\n",
    "sampwidth = parameters[1]\n",
    "framerate = parameters[2]\n",
    "nframes = parameters[3]\n",
    "comptype = parameters[4]\n",
    "compname = parameters[5]"
   ]
  },
  {
   "cell_type": "markdown",
   "metadata": {},
   "source": [
    "<font color = 'blue'> Plot to visualize audio"
   ]
  },
  {
   "cell_type": "code",
   "execution_count": 183,
   "metadata": {},
   "outputs": [
    {
     "data": {
      "text/plain": [
       "bytes"
      ]
     },
     "execution_count": 183,
     "metadata": {},
     "output_type": "execute_result"
    }
   ],
   "source": [
    "type(signal_byte)"
   ]
  },
  {
   "cell_type": "code",
   "execution_count": 231,
   "metadata": {},
   "outputs": [
    {
     "data": {
      "text/plain": [
       "<wave.Wave_read at 0x11c67ff60>"
      ]
     },
     "execution_count": 231,
     "metadata": {},
     "output_type": "execute_result"
    }
   ],
   "source": [
    "# Open file\n",
    "audio = wave.open('media.wav','r') # read mode\n",
    "audio # type: wave object - wave.Wave_read"
   ]
  },
  {
   "cell_type": "code",
   "execution_count": 232,
   "metadata": {},
   "outputs": [
    {
     "name": "stderr",
     "output_type": "stream",
     "text": [
      "/Users/PB/anaconda3/lib/python3.6/site-packages/ipykernel_launcher.py:2: DeprecationWarning: Numeric-style type codes are deprecated and will result in an error in the future.\n",
      "  \n",
      "/Users/PB/anaconda3/lib/python3.6/site-packages/ipykernel_launcher.py:2: DeprecationWarning: The binary mode of fromstring is deprecated, as it behaves surprisingly on unicode inputs. Use frombuffer instead\n",
      "  \n"
     ]
    },
    {
     "data": {
      "image/png": "[encoded data removed]",
      "text/plain": [
       "<Figure size 720x648 with 1 Axes>"
      ]
     },
     "metadata": {
      "needs_background": "light"
     },
     "output_type": "display_data"
    }
   ],
   "source": [
    "signal_byte = audio.readframes(-1) # gets bytes data from audio ?whats with -1?\n",
    "signal = np.fromstring(signal_byte, 'Int16') #A new 1-D array of integers from bytes. dtype = int16.\n",
    "freq = audio.getframerate() # returns frequency\n",
    "\n",
    "time = np.linspace(0, len(signal)/freq, num=len(signal))\n",
    "\n",
    "plt.figure(1, figsize=(10,9))\n",
    "plt.title('Signal Wave...')\n",
    "plt.plot(time,signal) # fft?\n",
    "x = plt.savefig('media.png')\n",
    "plt.show()"
   ]
  },
  {
   "cell_type": "code",
   "execution_count": 185,
   "metadata": {},
   "outputs": [],
   "source": [
    "from skimage import color\n",
    "from skimage import io\n",
    "\n",
    "img = color.rgb2gray(io.imread('dexter.png'))"
   ]
  },
  {
   "cell_type": "code",
   "execution_count": 191,
   "metadata": {
    "collapsed": true
   },
   "outputs": [
    {
     "ename": "AttributeError",
     "evalue": "'numpy.ndarray' object has no attribute 'read'",
     "output_type": "error",
     "traceback": [
      "\u001b[0;31m---------------------------------------------------------------------------\u001b[0m",
      "\u001b[0;31mAttributeError\u001b[0m                            Traceback (most recent call last)",
      "\u001b[0;32m~/anaconda3/lib/python3.6/site-packages/PIL/Image.py\u001b[0m in \u001b[0;36mopen\u001b[0;34m(fp, mode)\u001b[0m\n\u001b[1;32m   2612\u001b[0m     \u001b[0;32mtry\u001b[0m\u001b[0;34m:\u001b[0m\u001b[0;34m\u001b[0m\u001b[0;34m\u001b[0m\u001b[0m\n\u001b[0;32m-> 2613\u001b[0;31m         \u001b[0mfp\u001b[0m\u001b[0;34m.\u001b[0m\u001b[0mseek\u001b[0m\u001b[0;34m(\u001b[0m\u001b[0;36m0\u001b[0m\u001b[0;34m)\u001b[0m\u001b[0;34m\u001b[0m\u001b[0;34m\u001b[0m\u001b[0m\n\u001b[0m\u001b[1;32m   2614\u001b[0m     \u001b[0;32mexcept\u001b[0m \u001b[0;34m(\u001b[0m\u001b[0mAttributeError\u001b[0m\u001b[0;34m,\u001b[0m \u001b[0mio\u001b[0m\u001b[0;34m.\u001b[0m\u001b[0mUnsupportedOperation\u001b[0m\u001b[0;34m)\u001b[0m\u001b[0;34m:\u001b[0m\u001b[0;34m\u001b[0m\u001b[0;34m\u001b[0m\u001b[0m\n",
      "\u001b[0;31mAttributeError\u001b[0m: 'numpy.ndarray' object has no attribute 'seek'",
      "\nDuring handling of the above exception, another exception occurred:\n",
      "\u001b[0;31mAttributeError\u001b[0m                            Traceback (most recent call last)",
      "\u001b[0;32m<ipython-input-191-e4fd52d2abfe>\u001b[0m in \u001b[0;36m<module>\u001b[0;34m\u001b[0m\n\u001b[1;32m      1\u001b[0m \u001b[0;34m\u001b[0m\u001b[0m\n\u001b[0;32m----> 2\u001b[0;31m \u001b[0mimage\u001b[0m \u001b[0;34m=\u001b[0m \u001b[0mImage\u001b[0m\u001b[0;34m.\u001b[0m\u001b[0mopen\u001b[0m\u001b[0;34m(\u001b[0m\u001b[0mimg\u001b[0m\u001b[0;34m)\u001b[0m\u001b[0;34m\u001b[0m\u001b[0;34m\u001b[0m\u001b[0m\n\u001b[0m\u001b[1;32m      3\u001b[0m \u001b[0mimage\u001b[0m\u001b[0;34m.\u001b[0m\u001b[0mshow\u001b[0m\u001b[0;34m(\u001b[0m\u001b[0;34m)\u001b[0m\u001b[0;34m\u001b[0m\u001b[0;34m\u001b[0m\u001b[0m\n",
      "\u001b[0;32m~/anaconda3/lib/python3.6/site-packages/PIL/Image.py\u001b[0m in \u001b[0;36mopen\u001b[0;34m(fp, mode)\u001b[0m\n\u001b[1;32m   2613\u001b[0m         \u001b[0mfp\u001b[0m\u001b[0;34m.\u001b[0m\u001b[0mseek\u001b[0m\u001b[0;34m(\u001b[0m\u001b[0;36m0\u001b[0m\u001b[0;34m)\u001b[0m\u001b[0;34m\u001b[0m\u001b[0;34m\u001b[0m\u001b[0m\n\u001b[1;32m   2614\u001b[0m     \u001b[0;32mexcept\u001b[0m \u001b[0;34m(\u001b[0m\u001b[0mAttributeError\u001b[0m\u001b[0;34m,\u001b[0m \u001b[0mio\u001b[0m\u001b[0;34m.\u001b[0m\u001b[0mUnsupportedOperation\u001b[0m\u001b[0;34m)\u001b[0m\u001b[0;34m:\u001b[0m\u001b[0;34m\u001b[0m\u001b[0;34m\u001b[0m\u001b[0m\n\u001b[0;32m-> 2615\u001b[0;31m         \u001b[0mfp\u001b[0m \u001b[0;34m=\u001b[0m \u001b[0mio\u001b[0m\u001b[0;34m.\u001b[0m\u001b[0mBytesIO\u001b[0m\u001b[0;34m(\u001b[0m\u001b[0mfp\u001b[0m\u001b[0;34m.\u001b[0m\u001b[0mread\u001b[0m\u001b[0;34m(\u001b[0m\u001b[0;34m)\u001b[0m\u001b[0;34m)\u001b[0m\u001b[0;34m\u001b[0m\u001b[0;34m\u001b[0m\u001b[0m\n\u001b[0m\u001b[1;32m   2616\u001b[0m         \u001b[0mexclusive_fp\u001b[0m \u001b[0;34m=\u001b[0m \u001b[0;32mTrue\u001b[0m\u001b[0;34m\u001b[0m\u001b[0;34m\u001b[0m\u001b[0m\n\u001b[1;32m   2617\u001b[0m \u001b[0;34m\u001b[0m\u001b[0m\n",
      "\u001b[0;31mAttributeError\u001b[0m: 'numpy.ndarray' object has no attribute 'read'"
     ]
    }
   ],
   "source": [
    "from PIL import Image\n",
    "image = Image.open(img)\n",
    "image.show()"
   ]
  },
  {
   "cell_type": "markdown",
   "metadata": {},
   "source": [
    "<font color = 'blue'>Now use the parameters to write an audio file to try and recreate the initial audio"
   ]
  },
  {
   "cell_type": "code",
   "execution_count": 169,
   "metadata": {},
   "outputs": [
    {
     "data": {
      "text/plain": [
       "array([-789,  128, 1875, ...,    1,    1,    2], dtype=int16)"
      ]
     },
     "execution_count": 169,
     "metadata": {},
     "output_type": "execute_result"
    }
   ],
   "source": [
    "signal"
   ]
  },
  {
   "cell_type": "code",
   "execution_count": 119,
   "metadata": {},
   "outputs": [
    {
     "data": {
      "text/plain": [
       "<wave.Wave_write at 0x11c70a208>"
      ]
     },
     "execution_count": 119,
     "metadata": {},
     "output_type": "execute_result"
    }
   ],
   "source": [
    "tune = wave.open('samira_testback.wav','wb') # create new audio file with write mode\n",
    "tune"
   ]
  },
  {
   "cell_type": "markdown",
   "metadata": {},
   "source": [
    "<font color = 'blue'> Set parameters gotten from original audio to new"
   ]
  },
  {
   "cell_type": "code",
   "execution_count": 120,
   "metadata": {},
   "outputs": [],
   "source": [
    "tune = wave.open('samira_testback.wav','wb') # create new audio file with write mode\n",
    "tune.setnchannels(nchannels) # channels 1 = mono 2 = stereo (two because of two ears)\n",
    "tune.setsampwidth(sampwidth)\n",
    "tune.setframerate(framerate) # specify frame rate to get number of frames. you have duration and rate\n",
    "tune.setnframes(nframes)\n",
    "tune.setcomptype(comptype, compname)\n",
    "tune.writeframes(signal)"
   ]
  },
  {
   "cell_type": "markdown",
   "metadata": {},
   "source": [
    "<font color = 'blue'> Write the signal into new audio file"
   ]
  },
  {
   "cell_type": "code",
   "execution_count": 121,
   "metadata": {},
   "outputs": [],
   "source": [
    "tune.writeframes(signal)"
   ]
  },
  {
   "cell_type": "code",
   "execution_count": 122,
   "metadata": {},
   "outputs": [],
   "source": [
    "tune.close() # need to close out the wave_write object"
   ]
  },
  {
   "cell_type": "code",
   "execution_count": 123,
   "metadata": {},
   "outputs": [],
   "source": [
    "audio = AudioSegment.from_wav('samira_testback.wav')\n"
   ]
  },
  {
   "cell_type": "code",
   "execution_count": 124,
   "metadata": {},
   "outputs": [
    {
     "data": {
      "text/html": [
       "\n",
       "                    <audio controls>\n",
       "                        <source src=\"data:audio/mpeg;base64,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\" type=\"audio/mpeg\"/>\n",
       "                        Your browser does not support the audio element.\n",
       "                    </audio>\n",
       "                  "
      ],
      "text/plain": [
       "<pydub.audio_segment.AudioSegment at 0x31fe9ac18>"
      ]
     },
     "execution_count": 124,
     "metadata": {},
     "output_type": "execute_result"
    }
   ],
   "source": [
    "audio"
   ]
  },
  {
   "cell_type": "markdown",
   "metadata": {},
   "source": [
    "## <font color = 'blue'> Get Audio from Sound Wave Image"
   ]
  },
  {
   "cell_type": "code",
   "execution_count": 125,
   "metadata": {},
   "outputs": [],
   "source": [
    "try:\n",
    "    #change the file's name and format\n",
    "    image_file = 'qrcode.png'\n",
    "    fin = open(image_file, \"rb\") # type: _io.BufferedReader\n",
    "    data = fin.read() # convert to bytes\n",
    "    fin.close()\n",
    "except IOError:\n",
    "    print(\"Image file %s not found\" % imageFile)\n",
    "    raise SystemExit"
   ]
  },
  {
   "cell_type": "code",
   "execution_count": 128,
   "metadata": {},
   "outputs": [
    {
     "data": {
      "text/plain": [
       "<_io.BufferedReader name='qrcode.png'>"
      ]
     },
     "execution_count": 128,
     "metadata": {},
     "output_type": "execute_result"
    }
   ],
   "source": [
    "fin # length of 152687"
   ]
  },
  {
   "cell_type": "code",
   "execution_count": 104,
   "metadata": {},
   "outputs": [],
   "source": [
    "#Give the name for wav file produced at run time corresponding to the input file\n",
    "sound_output = wave.open('fromimage.wav', 'w')\n",
    "sound_output.setparams((nchannels, sampwidth, framerate, nframes, comptype, compname))"
   ]
  },
  {
   "cell_type": "code",
   "execution_count": 105,
   "metadata": {},
   "outputs": [],
   "source": [
    "hex_str = bytes(data) #convert binary data to string of bytes\n",
    "sound_output.writeframes(hex_str)\n",
    "\n",
    "\n",
    "sound_output.close()"
   ]
  },
  {
   "cell_type": "code",
   "execution_count": 106,
   "metadata": {},
   "outputs": [
    {
     "data": {
      "text/html": [
       "\n",
       "                    <audio controls>\n",
       "                        <source src=\"data:audio/mpeg;base64,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\" type=\"audio/mpeg\"/>\n",
       "                        Your browser does not support the audio element.\n",
       "                    </audio>\n",
       "                  "
      ],
      "text/plain": [
       "<pydub.audio_segment.AudioSegment at 0x11c427320>"
      ]
     },
     "execution_count": 106,
     "metadata": {},
     "output_type": "execute_result"
    }
   ],
   "source": [
    "AudioSegment.from_wav('some1.wav','rb')"
   ]
  },
  {
   "cell_type": "code",
   "execution_count": null,
   "metadata": {},
   "outputs": [],
   "source": []
  },
  {
   "cell_type": "code",
   "execution_count": null,
   "metadata": {},
   "outputs": [],
   "source": []
  },
  {
   "cell_type": "code",
   "execution_count": null,
   "metadata": {},
   "outputs": [],
   "source": []
  },
  {
   "cell_type": "code",
   "execution_count": null,
   "metadata": {},
   "outputs": [],
   "source": [
    "signal_byte = audio.readframes(-1) # gets bytes data from audio ?whats with -1?\n",
    "signal = np.fromstring(signal_byte, 'Int16') #A new 1-D array of integers from bytes. dtype = int16.\n",
    "freq = audio.getframerate() # returns frequency\n",
    "\n",
    "time = np.linspace(0, len(signal)/freq, num=len(signal))\n",
    "\n",
    "plt.figure(1, figsize=(10,9))\n",
    "plt.title('Signal Wave...')\n",
    "plt.plot(time,signal)\n",
    "plt.show()\n",
    "\n"
   ]
  },
  {
   "cell_type": "code",
   "execution_count": 48,
   "metadata": {},
   "outputs": [],
   "source": [
    "hex_str = bytes(data) #convert binary data to string of bytes\n",
    "sound_output.writeframes(data)\n",
    "\n",
    "sound_output.close()"
   ]
  },
  {
   "cell_type": "code",
   "execution_count": 49,
   "metadata": {},
   "outputs": [
    {
     "data": {
      "text/plain": [
       "<wave.Wave_read at 0x11f410c88>"
      ]
     },
     "execution_count": 49,
     "metadata": {},
     "output_type": "execute_result"
    }
   ],
   "source": [
    "# Open file\n",
    "audio = wave.open('samira_recreated.wav','r') # read mode\n",
    "audio # type: wave object - wave.Wave_read"
   ]
  },
  {
   "cell_type": "code",
   "execution_count": null,
   "metadata": {},
   "outputs": [],
   "source": []
  },
  {
   "cell_type": "code",
   "execution_count": 230,
   "metadata": {},
   "outputs": [
    {
     "name": "stderr",
     "output_type": "stream",
     "text": [
      "/Users/PB/anaconda3/lib/python3.6/site-packages/ipykernel_launcher.py:2: DeprecationWarning: Numeric-style type codes are deprecated and will result in an error in the future.\n",
      "  \n",
      "/Users/PB/anaconda3/lib/python3.6/site-packages/ipykernel_launcher.py:2: DeprecationWarning: The binary mode of fromstring is deprecated, as it behaves surprisingly on unicode inputs. Use frombuffer instead\n",
      "  \n"
     ]
    },
    {
     "data": {
      "image/png": "[encoded data removed]",
      "text/plain": [
       "<Figure size 720x648 with 1 Axes>"
      ]
     },
     "metadata": {
      "needs_background": "light"
     },
     "output_type": "display_data"
    }
   ],
   "source": [
    "signal_byte = audio.readframes(-1) # gets bytes data from audio ?whats with -1?\n",
    "signal = np.fromstring(signal_byte, 'Int16') #A new 1-D array of integers from bytes. dtype = int16.\n",
    "freq = audio.getframerate() # returns frequency\n",
    "\n",
    "time = np.linspace(0, len(signal)/freq, num=len(signal))\n",
    "\n",
    "plt.figure(1, figsize=(10,9))\n",
    "plt.title('Signal Wave...')\n",
    "plt.plot(time,signal)\n",
    "x = plt.savefig('image.png')\n",
    "plt.show()"
   ]
  },
  {
   "cell_type": "code",
   "execution_count": 50,
   "metadata": {},
   "outputs": [
    {
     "data": {
      "text/html": [
       "\n",
       "                    <audio controls>\n",
       "                        <source src=\"data:audio/mpeg;base64,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\" type=\"audio/mpeg\"/>\n",
       "                        Your browser does not support the audio element.\n",
       "                    </audio>\n",
       "                  "
      ],
      "text/plain": [
       "<pydub.audio_segment.AudioSegment at 0x11f4088d0>"
      ]
     },
     "execution_count": 50,
     "metadata": {},
     "output_type": "execute_result"
    }
   ],
   "source": [
    "AudioSegment.from_wav('samira_recreated.wav')"
   ]
  },
  {
   "cell_type": "markdown",
   "metadata": {},
   "source": [
    "<font color = 'blue'> can also plot with scipy"
   ]
  },
  {
   "cell_type": "code",
   "execution_count": 70,
   "metadata": {},
   "outputs": [
    {
     "data": {
      "image/png": "[encoded data removed]",
      "text/plain": [
       "<Figure size 432x288 with 1 Axes>"
      ]
     },
     "metadata": {
      "needs_background": "light"
     },
     "output_type": "display_data"
    }
   ],
   "source": [
    "# can also do this in scipy\n",
    "from scipy.io.wavfile import read\n",
    "import matplotlib.pyplot as plt\n",
    "\n",
    "# read audio samples\n",
    "input_data = read(\"samira.wav\")\n",
    "audio = input_data[1]\n",
    "# plot the first 1024 samples\n",
    "plt.plot(audio)\n",
    "# label the axes\n",
    "plt.ylabel(\"Amplitude\")\n",
    "plt.xlabel(\"Time\")\n",
    "# set the title  \n",
    "plt.title(\"Sample Wav\")\n",
    "# display the plot\n",
    "plt.show()"
   ]
  },
  {
   "cell_type": "markdown",
   "metadata": {},
   "source": [
    "get derivative equal to zero. get only these points. make a scatter plot, then connect those dots?\n",
    "\n"
   ]
  },
  {
   "cell_type": "code",
   "execution_count": 333,
   "metadata": {},
   "outputs": [
    {
     "data": {
      "text/plain": [
       "0.26"
      ]
     },
     "execution_count": 333,
     "metadata": {},
     "output_type": "execute_result"
    }
   ],
   "source": [
    "gis = ImageSignature()\n",
    "a = gis.generate_signature('media.png')\n",
    "b = gis.generate_signature('trial.png')\n",
    "round(gis.normalized_distance(a, b),2)"
   ]
  },
  {
   "cell_type": "code",
   "execution_count": 360,
   "metadata": {},
   "outputs": [],
   "source": [
    "string = ('[0, 0, 0, 0, 1, 0, 0, 1, 0, 0, 0, -1, 1, -1, 1, 2, 0, 0, 0, -1, -2, -1, 1, -1, 0, 0, 0, 2, 0, 2, 1, 0, 0, 0, 0, 0, 0, 1, 0, 0, 0, 0, 0, 0, 1, 0, 0, 2, 0, 0, 0, -1, -1, -1, 2, -1, 0, 0, 0, 1, 0, 2, 0, 0, 0, 0, 0, 0, 0, 0, 0, 0, 0, 0, 1, 0, 1, 0, 1, 2, -1, -1, 1, -1, 2, -1, 1, 2, -2, -1, -2, -2, -2, -1, 1, -1, 1, -1, -1, 2, -1, 2, 1, -1, 0, 0, 0, 1, 0, 2, 0, 2, 0, 0, 1, 0, 2, 0, 2, 2, -2, -2, -2, -2, -2, -2, 1, -2, 1, 0, 0, 2, 0, 2, 0, 0, 0, 0, 0, 0, 0, 0, 0, 0, 0, -1, 1, 0, 1, 0, 1, 2, -2, -1, 1, -1, 1, -1, 1, 1, -2, -1, -2, -1, -2, 0, 0, -1, 1, -1, -2, 2, -2, 2, 2, -2, 1, 0, 0, 2, 2, 2, 1, 2, -2, -2, 2, -2, 2, -1, 2, 2, -2, -1, -2, -2, -2, -1, 0, -2, 2, 0, 0, 2, 0, 2, 0, 0, 0, 0, 0, 0, 0, 0, 0, 0, 0, -1, 1, 0, 2, 0, 0, 2, -2, -1, 0, -2, 0, -2, 0, 0, -1, 0, -2, 0, -1, 0, 0, 0, 1, -2, -2, 1, -2, 1, 1, 1, 2, -1, 1, 2, 2, 2, 2, 2, -2, -2, 1, -2, 1, 1, 1, 1, -2, 0, -2, -1, -2, 0, 0, -2, 2, 0, 0, 2, 0, 2, 1, 1, 0, 0, 0, 0, 0, 1, 1, 0, 0, 0, 2, 0, 2, 0, -1, 2, -2, 0, 0, -2, 0, -2, 0, 0, 0, 0, -1, 0, 0, 0, 0, 0, 0, -1, -2, 0, 0, 0, 0, -1, -1, -2, -1, 0, 0, 0, -1, 0, -2, -1, 0, 0, 0, -1, 0, 0, -1, 0, -2, 0, -2, 0, 0, -2, 2, -1, -1, 2, -1, 2, -1, -1, -1, -1, 0, 1, 0, -1, -1, 0, 0, 1, 2, 0, 2, 0, -1, 1, -2, 0, 0, -2, 0, -2, -2, 0, 0, 0, 0, 0, 0, -2, 0, -1, 0, 0, 0, 0, -1, 0, -1, -2, 1, 1, 1, 1, 1, 1, -2, -1, 0, 0, 0, -1, 0, -2, -1, 0, 0, 0, -2, 0, -2, -1, 0, -2, 2, 1, 1, 2, 0, 2, 0, 0, 1, 1, 0, 0, 0, 0, 0, 0, 0, 1, 2, 0, 1, 0, -1, 1, -1, 2, 2, -1, 2, -1, -1, 1, 0, 0, 0, -2, -1, -2, -2, -2, 1, 1, -1, 1, -2, -2, -2, -2, 2, 2, 2, 2, 2, 1, 0, 0, 1, 1, 1, -2, 1, -2, -2, 1, 0, 0, -2, -1, -2, -2, -1, -2, 2, 0, 0, 2, 0, 2, 0, 0, 0, 0, 0, 0, 0, 0, 0, 0, 0, 1, 1, 0, 1, 0, 0, -1, -1, 1, 2, -1, 1, -1, -1, -1, -1, 2, 2, -1, -1, -2, -2, -2, 2, 2, -1, 1, -1, -1, -1, -1, 2, 0, 2, 1, 0, 0, 0, 0, 0, 2, 2, 0, 2, 0, 0, 2, -1, 1, -2, -2, -2, -2, -2, -2, 2, 0, 0, 2, 0, 2, 0, 0, 0, 0, 0, 0, 0, 0, 0, 0, 0, 0, 1, 0, -1, 0, 0, 0, 1, 1, 2, 1, 0, 0, 0, 0, 1, 2, 1, 0, 0, 0, 0, 0, 2, 1, 0, 0, 0, 0, 0, 0, 1, 0, 0, 0, 0, 0, 0, 0, 0, 0, 2, 0, 2, 0, 0, 0, -2, 2, -2, -2, -2, 0, 0, 0, 2, 0, 0, 2, 0, 0, 0, 0, 0, 0, 0, 0, 0, 0, 0, 0]',)"
   ]
  },
  {
   "cell_type": "code",
   "execution_count": 367,
   "metadata": {},
   "outputs": [],
   "source": [
    "[int(char) for char in string[0][1:-1].split(',')]\n",
    "lsity = [int(y) for y in sting_list]"
   ]
  },
  {
   "cell_type": "code",
   "execution_count": 368,
   "metadata": {},
   "outputs": [
    {
     "data": {
      "text/plain": [
       "[0,\n",
       " 0,\n",
       " 0,\n",
       " 0,\n",
       " 1,\n",
       " 0,\n",
       " 0,\n",
       " 1,\n",
       " 0,\n",
       " 0,\n",
       " 0,\n",
       " -1,\n",
       " 1,\n",
       " -1,\n",
       " 1,\n",
       " 2,\n",
       " 0,\n",
       " 0,\n",
       " 0,\n",
       " -1,\n",
       " -2,\n",
       " -1,\n",
       " 1,\n",
       " -1,\n",
       " 0,\n",
       " 0,\n",
       " 0,\n",
       " 2,\n",
       " 0,\n",
       " 2,\n",
       " 1,\n",
       " 0,\n",
       " 0,\n",
       " 0,\n",
       " 0,\n",
       " 0,\n",
       " 0,\n",
       " 1,\n",
       " 0,\n",
       " 0,\n",
       " 0,\n",
       " 0,\n",
       " 0,\n",
       " 0,\n",
       " 1,\n",
       " 0,\n",
       " 0,\n",
       " 2,\n",
       " 0,\n",
       " 0,\n",
       " 0,\n",
       " -1,\n",
       " -1,\n",
       " -1,\n",
       " 2,\n",
       " -1,\n",
       " 0,\n",
       " 0,\n",
       " 0,\n",
       " 1,\n",
       " 0,\n",
       " 2,\n",
       " 0,\n",
       " 0,\n",
       " 0,\n",
       " 0,\n",
       " 0,\n",
       " 0,\n",
       " 0,\n",
       " 0,\n",
       " 0,\n",
       " 0,\n",
       " 0,\n",
       " 0,\n",
       " 1,\n",
       " 0,\n",
       " 1,\n",
       " 0,\n",
       " 1,\n",
       " 2,\n",
       " -1,\n",
       " -1,\n",
       " 1,\n",
       " -1,\n",
       " 2,\n",
       " -1,\n",
       " 1,\n",
       " 2,\n",
       " -2,\n",
       " -1,\n",
       " -2,\n",
       " -2,\n",
       " -2,\n",
       " -1,\n",
       " 1,\n",
       " -1,\n",
       " 1,\n",
       " -1,\n",
       " -1,\n",
       " 2,\n",
       " -1,\n",
       " 2,\n",
       " 1,\n",
       " -1,\n",
       " 0,\n",
       " 0,\n",
       " 0,\n",
       " 1,\n",
       " 0,\n",
       " 2,\n",
       " 0,\n",
       " 2,\n",
       " 0,\n",
       " 0,\n",
       " 1,\n",
       " 0,\n",
       " 2,\n",
       " 0,\n",
       " 2,\n",
       " 2,\n",
       " -2,\n",
       " -2,\n",
       " -2,\n",
       " -2,\n",
       " -2,\n",
       " -2,\n",
       " 1,\n",
       " -2,\n",
       " 1,\n",
       " 0,\n",
       " 0,\n",
       " 2,\n",
       " 0,\n",
       " 2,\n",
       " 0,\n",
       " 0,\n",
       " 0,\n",
       " 0,\n",
       " 0,\n",
       " 0,\n",
       " 0,\n",
       " 0,\n",
       " 0,\n",
       " 0,\n",
       " 0,\n",
       " -1,\n",
       " 1,\n",
       " 0,\n",
       " 1,\n",
       " 0,\n",
       " 1,\n",
       " 2,\n",
       " -2,\n",
       " -1,\n",
       " 1,\n",
       " -1,\n",
       " 1,\n",
       " -1,\n",
       " 1,\n",
       " 1,\n",
       " -2,\n",
       " -1,\n",
       " -2,\n",
       " -1,\n",
       " -2,\n",
       " 0,\n",
       " 0,\n",
       " -1,\n",
       " 1,\n",
       " -1,\n",
       " -2,\n",
       " 2,\n",
       " -2,\n",
       " 2,\n",
       " 2,\n",
       " -2,\n",
       " 1,\n",
       " 0,\n",
       " 0,\n",
       " 2,\n",
       " 2,\n",
       " 2,\n",
       " 1,\n",
       " 2,\n",
       " -2,\n",
       " -2,\n",
       " 2,\n",
       " -2,\n",
       " 2,\n",
       " -1,\n",
       " 2,\n",
       " 2,\n",
       " -2,\n",
       " -1,\n",
       " -2,\n",
       " -2,\n",
       " -2,\n",
       " -1,\n",
       " 0,\n",
       " -2,\n",
       " 2,\n",
       " 0,\n",
       " 0,\n",
       " 2,\n",
       " 0,\n",
       " 2,\n",
       " 0,\n",
       " 0,\n",
       " 0,\n",
       " 0,\n",
       " 0,\n",
       " 0,\n",
       " 0,\n",
       " 0,\n",
       " 0,\n",
       " 0,\n",
       " 0,\n",
       " -1,\n",
       " 1,\n",
       " 0,\n",
       " 2,\n",
       " 0,\n",
       " 0,\n",
       " 2,\n",
       " -2,\n",
       " -1,\n",
       " 0,\n",
       " -2,\n",
       " 0,\n",
       " -2,\n",
       " 0,\n",
       " 0,\n",
       " -1,\n",
       " 0,\n",
       " -2,\n",
       " 0,\n",
       " -1,\n",
       " 0,\n",
       " 0,\n",
       " 0,\n",
       " 1,\n",
       " -2,\n",
       " -2,\n",
       " 1,\n",
       " -2,\n",
       " 1,\n",
       " 1,\n",
       " 1,\n",
       " 2,\n",
       " -1,\n",
       " 1,\n",
       " 2,\n",
       " 2,\n",
       " 2,\n",
       " 2,\n",
       " 2,\n",
       " -2,\n",
       " -2,\n",
       " 1,\n",
       " -2,\n",
       " 1,\n",
       " 1,\n",
       " 1,\n",
       " 1,\n",
       " -2,\n",
       " 0,\n",
       " -2,\n",
       " -1,\n",
       " -2,\n",
       " 0,\n",
       " 0,\n",
       " -2,\n",
       " 2,\n",
       " 0,\n",
       " 0,\n",
       " 2,\n",
       " 0,\n",
       " 2,\n",
       " 1,\n",
       " 1,\n",
       " 0,\n",
       " 0,\n",
       " 0,\n",
       " 0,\n",
       " 0,\n",
       " 1,\n",
       " 1,\n",
       " 0,\n",
       " 0,\n",
       " 0,\n",
       " 2,\n",
       " 0,\n",
       " 2,\n",
       " 0,\n",
       " -1,\n",
       " 2,\n",
       " -2,\n",
       " 0,\n",
       " 0,\n",
       " -2,\n",
       " 0,\n",
       " -2,\n",
       " 0,\n",
       " 0,\n",
       " 0,\n",
       " 0,\n",
       " -1,\n",
       " 0,\n",
       " 0,\n",
       " 0,\n",
       " 0,\n",
       " 0,\n",
       " 0,\n",
       " -1,\n",
       " -2,\n",
       " 0,\n",
       " 0,\n",
       " 0,\n",
       " 0,\n",
       " -1,\n",
       " -1,\n",
       " -2,\n",
       " -1,\n",
       " 0,\n",
       " 0,\n",
       " 0,\n",
       " -1,\n",
       " 0,\n",
       " -2,\n",
       " -1,\n",
       " 0,\n",
       " 0,\n",
       " 0,\n",
       " -1,\n",
       " 0,\n",
       " 0,\n",
       " -1,\n",
       " 0,\n",
       " -2,\n",
       " 0,\n",
       " -2,\n",
       " 0,\n",
       " 0,\n",
       " -2,\n",
       " 2,\n",
       " -1,\n",
       " -1,\n",
       " 2,\n",
       " -1,\n",
       " 2,\n",
       " -1,\n",
       " -1,\n",
       " -1,\n",
       " -1,\n",
       " 0,\n",
       " 1,\n",
       " 0,\n",
       " -1,\n",
       " -1,\n",
       " 0,\n",
       " 0,\n",
       " 1,\n",
       " 2,\n",
       " 0,\n",
       " 2,\n",
       " 0,\n",
       " -1,\n",
       " 1,\n",
       " -2,\n",
       " 0,\n",
       " 0,\n",
       " -2,\n",
       " 0,\n",
       " -2,\n",
       " -2,\n",
       " 0,\n",
       " 0,\n",
       " 0,\n",
       " 0,\n",
       " 0,\n",
       " 0,\n",
       " -2,\n",
       " 0,\n",
       " -1,\n",
       " 0,\n",
       " 0,\n",
       " 0,\n",
       " 0,\n",
       " -1,\n",
       " 0,\n",
       " -1,\n",
       " -2,\n",
       " 1,\n",
       " 1,\n",
       " 1,\n",
       " 1,\n",
       " 1,\n",
       " 1,\n",
       " -2,\n",
       " -1,\n",
       " 0,\n",
       " 0,\n",
       " 0,\n",
       " -1,\n",
       " 0,\n",
       " -2,\n",
       " -1,\n",
       " 0,\n",
       " 0,\n",
       " 0,\n",
       " -2,\n",
       " 0,\n",
       " -2,\n",
       " -1,\n",
       " 0,\n",
       " -2,\n",
       " 2,\n",
       " 1,\n",
       " 1,\n",
       " 2,\n",
       " 0,\n",
       " 2,\n",
       " 0,\n",
       " 0,\n",
       " 1,\n",
       " 1,\n",
       " 0,\n",
       " 0,\n",
       " 0,\n",
       " 0,\n",
       " 0,\n",
       " 0,\n",
       " 0,\n",
       " 1,\n",
       " 2,\n",
       " 0,\n",
       " 1,\n",
       " 0,\n",
       " -1,\n",
       " 1,\n",
       " -1,\n",
       " 2,\n",
       " 2,\n",
       " -1,\n",
       " 2,\n",
       " -1,\n",
       " -1,\n",
       " 1,\n",
       " 0,\n",
       " 0,\n",
       " 0,\n",
       " -2,\n",
       " -1,\n",
       " -2,\n",
       " -2,\n",
       " -2,\n",
       " 1,\n",
       " 1,\n",
       " -1,\n",
       " 1,\n",
       " -2,\n",
       " -2,\n",
       " -2,\n",
       " -2,\n",
       " 2,\n",
       " 2,\n",
       " 2,\n",
       " 2,\n",
       " 2,\n",
       " 1,\n",
       " 0,\n",
       " 0,\n",
       " 1,\n",
       " 1,\n",
       " 1,\n",
       " -2,\n",
       " 1,\n",
       " -2,\n",
       " -2,\n",
       " 1,\n",
       " 0,\n",
       " 0,\n",
       " -2,\n",
       " -1,\n",
       " -2,\n",
       " -2,\n",
       " -1,\n",
       " -2,\n",
       " 2,\n",
       " 0,\n",
       " 0,\n",
       " 2,\n",
       " 0,\n",
       " 2,\n",
       " 0,\n",
       " 0,\n",
       " 0,\n",
       " 0,\n",
       " 0,\n",
       " 0,\n",
       " 0,\n",
       " 0,\n",
       " 0,\n",
       " 0,\n",
       " 0,\n",
       " 1,\n",
       " 1,\n",
       " 0,\n",
       " 1,\n",
       " 0,\n",
       " 0,\n",
       " -1,\n",
       " -1,\n",
       " 1,\n",
       " 2,\n",
       " -1,\n",
       " 1,\n",
       " -1,\n",
       " -1,\n",
       " -1,\n",
       " -1,\n",
       " 2,\n",
       " 2,\n",
       " -1,\n",
       " -1,\n",
       " -2,\n",
       " -2,\n",
       " -2,\n",
       " 2,\n",
       " 2,\n",
       " -1,\n",
       " 1,\n",
       " -1,\n",
       " -1,\n",
       " -1,\n",
       " -1,\n",
       " 2,\n",
       " 0,\n",
       " 2,\n",
       " 1,\n",
       " 0,\n",
       " 0,\n",
       " 0,\n",
       " 0,\n",
       " 0,\n",
       " 2,\n",
       " 2,\n",
       " 0,\n",
       " 2,\n",
       " 0,\n",
       " 0,\n",
       " 2,\n",
       " -1,\n",
       " 1,\n",
       " -2,\n",
       " -2,\n",
       " -2,\n",
       " -2,\n",
       " -2,\n",
       " -2,\n",
       " 2,\n",
       " 0,\n",
       " 0,\n",
       " 2,\n",
       " 0,\n",
       " 2,\n",
       " 0,\n",
       " 0,\n",
       " 0,\n",
       " 0,\n",
       " 0,\n",
       " 0,\n",
       " 0,\n",
       " 0,\n",
       " 0,\n",
       " 0,\n",
       " 0,\n",
       " 0,\n",
       " 1,\n",
       " 0,\n",
       " -1,\n",
       " 0,\n",
       " 0,\n",
       " 0,\n",
       " 1,\n",
       " 1,\n",
       " 2,\n",
       " 1,\n",
       " 0,\n",
       " 0,\n",
       " 0,\n",
       " 0,\n",
       " 1,\n",
       " 2,\n",
       " 1,\n",
       " 0,\n",
       " 0,\n",
       " 0,\n",
       " 0,\n",
       " 0,\n",
       " 2,\n",
       " 1,\n",
       " 0,\n",
       " 0,\n",
       " 0,\n",
       " 0,\n",
       " 0,\n",
       " 0,\n",
       " 1,\n",
       " 0,\n",
       " 0,\n",
       " 0,\n",
       " 0,\n",
       " 0,\n",
       " 0,\n",
       " 0,\n",
       " 0,\n",
       " 0,\n",
       " 2,\n",
       " 0,\n",
       " 2,\n",
       " 0,\n",
       " 0,\n",
       " 0,\n",
       " -2,\n",
       " 2,\n",
       " -2,\n",
       " -2,\n",
       " -2,\n",
       " 0,\n",
       " 0,\n",
       " 0,\n",
       " 2,\n",
       " 0,\n",
       " 0,\n",
       " 2,\n",
       " 0,\n",
       " 0,\n",
       " 0,\n",
       " 0,\n",
       " 0,\n",
       " 0,\n",
       " 0,\n",
       " 0,\n",
       " 0,\n",
       " 0,\n",
       " 0,\n",
       " 0]"
      ]
     },
     "execution_count": 368,
     "metadata": {},
     "output_type": "execute_result"
    }
   ],
   "source": [
    "lsity"
   ]
  },
  {
   "cell_type": "code",
   "execution_count": 306,
   "metadata": {},
   "outputs": [],
   "source": [
    "bb = gis.generate_signature('trial.png')"
   ]
  }
 ],
 "metadata": {
  "kernelspec": {
   "display_name": "Python 3",
   "language": "python",
   "name": "python3"
  },
  "language_info": {
   "codemirror_mode": {
    "name": "ipython",
    "version": 3
   },
   "file_extension": ".py",
   "mimetype": "text/x-python",
   "name": "python",
   "nbconvert_exporter": "python",
   "pygments_lexer": "ipython3",
   "version": "3.6.7"
  }
 },
 "nbformat": 4,
 "nbformat_minor": 2
}
